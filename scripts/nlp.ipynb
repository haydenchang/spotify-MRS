{
 "cells": [
  {
   "cell_type": "code",
   "id": "initial_id",
   "metadata": {
    "collapsed": true,
    "ExecuteTime": {
     "end_time": "2025-10-31T03:53:57.543834Z",
     "start_time": "2025-10-31T03:53:55.843053Z"
    }
   },
   "source": [
    "import os, json, joblib, numpy as np, pandas as pd\n",
    "from pathlib import Path\n",
    "\n",
    "from sklearn.preprocessing import StandardScaler\n",
    "from sklearn.metrics.pairwise import cosine_similarity\n",
    "from sklearn.model_selection import train_test_split\n",
    "from sklearn.linear_model import Ridge\n",
    "from sklearn.metrics import r2_score, mean_squared_error, mean_absolute_error\n",
    "\n",
    "ROOT = Path(os.path.abspath(os.path.join(os.getcwd(), \"..\"))) if (\"EDA\" in os.getcwd() or \"scripts\" in os.getcwd()) else Path(os.getcwd())\n",
    "\n",
    "DATA_CSV   = ROOT / \"data\" / \"clean_data\" / \"spotify_features_with_info.csv\"\n",
    "MODELS_DIR = ROOT / \"models\"\n",
    "ART_DIR    = ROOT / \"artifacts\"\n",
    "EMB_DIR    = ART_DIR / \"embeddings\"\n",
    "TAB_DIR    = ART_DIR / \"tables\"\n",
    "FIG_DIR    = ART_DIR / \"figures\"\n",
    "\n",
    "for d in [MODELS_DIR, ART_DIR, EMB_DIR, TAB_DIR, FIG_DIR]:\n",
    "    d.mkdir(parents=True, exist_ok=True)\n",
    "\n",
    "assert DATA_CSV.exists(), f\"Missing dataset: {DATA_CSV}\"\n",
    "df = pd.read_csv(DATA_CSV)\n",
    "\n",
    "name_col   = \"track_name\"  if \"track_name\"  in df.columns else None\n",
    "artist_col = \"artist_name\" if \"artist_name\" in df.columns else None\n",
    "\n",
    "exclude = {\"popularity\", \"popular_flag\"}\n",
    "num_cols = [c for c in df.columns if c not in exclude and pd.api.types.is_numeric_dtype(df[c])]\n",
    "X_audio = df[num_cols].copy()\n",
    "\n",
    "scaler = joblib.load(MODELS_DIR / \"scaler.joblib\")\n",
    "X_aduio_scaled = scaler.transform(X_audio)\n",
    "\n",
    "print(\"Rows:\", len(df), \"| audio features:\", len(num_cols))\n",
    "print(\"Examples:\", num_cols[:8])"
   ],
   "outputs": [
    {
     "name": "stdout",
     "output_type": "stream",
     "text": [
      "Rows: 130326 | audio features: 50\n",
      "Examples: ['duration_ms', 'key', 'mode', 'tempo', 'time_signature', 'total_beats', 'energy_sqrt', 'danceability_sqrt']\n"
     ]
    }
   ],
   "execution_count": 1
  },
  {
   "metadata": {},
   "cell_type": "markdown",
   "source": "**Title normalization**",
   "id": "9d41254a427a3f87"
  },
  {
   "metadata": {
    "ExecuteTime": {
     "end_time": "2025-10-31T03:56:08.264253Z",
     "start_time": "2025-10-31T03:56:08.066378Z"
    }
   },
   "cell_type": "code",
   "source": [
    "def normalize_title(s: str) -> str:\n",
    "    if not isinstance(s, str): return \"\"\n",
    "    s = s.lower().strip()\n",
    "    replacements = {\n",
    "        \"–\": \"-\", \"—\": \"-\", \"’\": \"'\", \"“\": '\"', \"”\": '\"',\n",
    "        \" (feat.\": \" feat \", \"(feat.\": \" feat \", \" feat.\": \" feat \",\n",
    "        \" (live)\": \" live\", \"(live)\": \" live\"\n",
    "    }\n",
    "    for k, v in replacements.items():\n",
    "        s = s.replace(k, v)\n",
    "    return \" \".join(s.split())\n",
    "\n",
    "titles_raw = df[name_col].fillna(\"\") if name_col else pd.Series([\"\"] * len(df))\n",
    "titles = titles_raw.apply(normalize_title)\n",
    "print(\"Sample titles:\", titles.head().tolist())"
   ],
   "id": "98f856179e6a004e",
   "outputs": [
    {
     "name": "stdout",
     "output_type": "stream",
     "text": [
      "Sample titles: ['so temporary', 'el olotito', 'reckless', 'dämonen', 'smoke too much']\n"
     ]
    }
   ],
   "execution_count": 2
  },
  {
   "metadata": {},
   "cell_type": "markdown",
   "source": "**Sentence embedding**",
   "id": "2937ec261be5e386"
  },
  {
   "metadata": {
    "ExecuteTime": {
     "end_time": "2025-10-31T04:03:00.344410Z",
     "start_time": "2025-10-31T04:00:35.280482Z"
    }
   },
   "cell_type": "code",
   "source": [
    "from sentence_transformers import SentenceTransformer\n",
    "\n",
    "MODEL_NAME = \"all-MiniLM-L6-v2\"\n",
    "encoder = SentenceTransformer(MODEL_NAME)\n",
    "\n",
    "E_text = encoder.encode(titles.tolist(), normalize_embeddings = True, show_progress_bar = True)\n",
    "E_text = np.asarray(E_text)\n",
    "print(\"Enbedding matrix shape:\", E_text.shape)\n",
    "np.save(EMB_DIR / \"title_embeddings_minilm.npy\", E_text)\n",
    "\n",
    "meta = {\n",
    "    \"model\" : MODEL_NAME,\n",
    "    \"normalized\" : True,\n",
    "    \"shape\" : E_text.shape,\n",
    "    \"name_col\" : name_col,\n",
    "    \"artist_col\" : artist_col\n",
    "}\n",
    "with open(EMB_DIR / \"embeddings_meta.json\", \"w\") as f:\n",
    "    json.dump(meta, f, indent = 2)\n",
    "print(\"Saved embeddings & meta.\")"
   ],
   "id": "5b5e874521749f92",
   "outputs": [
    {
     "name": "stdout",
     "output_type": "stream",
     "text": [
      "WARNING:tensorflow:From C:\\Users\\hayden\\AppData\\Local\\Programs\\Python\\Python312\\Lib\\site-packages\\tf_keras\\src\\losses.py:2976: The name tf.losses.sparse_softmax_cross_entropy is deprecated. Please use tf.compat.v1.losses.sparse_softmax_cross_entropy instead.\n",
      "\n"
     ]
    },
    {
     "data": {
      "text/plain": [
       "modules.json:   0%|          | 0.00/349 [00:00<?, ?B/s]"
      ],
      "application/vnd.jupyter.widget-view+json": {
       "version_major": 2,
       "version_minor": 0,
       "model_id": "17847e1ed85a4add912b2d5ef7d2de55"
      }
     },
     "metadata": {},
     "output_type": "display_data",
     "jetTransient": {
      "display_id": null
     }
    },
    {
     "name": "stderr",
     "output_type": "stream",
     "text": [
      "C:\\Users\\hayden\\AppData\\Local\\Programs\\Python\\Python312\\Lib\\site-packages\\huggingface_hub\\file_download.py:143: UserWarning: `huggingface_hub` cache-system uses symlinks by default to efficiently store duplicated files but your machine does not support them in C:\\Users\\hayden\\.cache\\huggingface\\hub\\models--sentence-transformers--all-MiniLM-L6-v2. Caching files will still work but in a degraded version that might require more space on your disk. This warning can be disabled by setting the `HF_HUB_DISABLE_SYMLINKS_WARNING` environment variable. For more details, see https://huggingface.co/docs/huggingface_hub/how-to-cache#limitations.\n",
      "To support symlinks on Windows, you either need to activate Developer Mode or to run Python as an administrator. In order to activate developer mode, see this article: https://docs.microsoft.com/en-us/windows/apps/get-started/enable-your-device-for-development\n",
      "  warnings.warn(message)\n"
     ]
    },
    {
     "data": {
      "text/plain": [
       "config_sentence_transformers.json:   0%|          | 0.00/116 [00:00<?, ?B/s]"
      ],
      "application/vnd.jupyter.widget-view+json": {
       "version_major": 2,
       "version_minor": 0,
       "model_id": "fdcc391984d34377a8dc45bdaa5992f6"
      }
     },
     "metadata": {},
     "output_type": "display_data",
     "jetTransient": {
      "display_id": null
     }
    },
    {
     "data": {
      "text/plain": [
       "README.md: 0.00B [00:00, ?B/s]"
      ],
      "application/vnd.jupyter.widget-view+json": {
       "version_major": 2,
       "version_minor": 0,
       "model_id": "1470189f961f4e1cb1f1ed64431d9160"
      }
     },
     "metadata": {},
     "output_type": "display_data",
     "jetTransient": {
      "display_id": null
     }
    },
    {
     "data": {
      "text/plain": [
       "sentence_bert_config.json:   0%|          | 0.00/53.0 [00:00<?, ?B/s]"
      ],
      "application/vnd.jupyter.widget-view+json": {
       "version_major": 2,
       "version_minor": 0,
       "model_id": "bf50569d7092442cb2675c5ae1dc2217"
      }
     },
     "metadata": {},
     "output_type": "display_data",
     "jetTransient": {
      "display_id": null
     }
    },
    {
     "data": {
      "text/plain": [
       "config.json:   0%|          | 0.00/612 [00:00<?, ?B/s]"
      ],
      "application/vnd.jupyter.widget-view+json": {
       "version_major": 2,
       "version_minor": 0,
       "model_id": "9820d68c9c2543dea582a6eb850460ec"
      }
     },
     "metadata": {},
     "output_type": "display_data",
     "jetTransient": {
      "display_id": null
     }
    },
    {
     "name": "stderr",
     "output_type": "stream",
     "text": [
      "Xet Storage is enabled for this repo, but the 'hf_xet' package is not installed. Falling back to regular HTTP download. For better performance, install the package with: `pip install huggingface_hub[hf_xet]` or `pip install hf_xet`\n"
     ]
    },
    {
     "data": {
      "text/plain": [
       "model.safetensors:   0%|          | 0.00/90.9M [00:00<?, ?B/s]"
      ],
      "application/vnd.jupyter.widget-view+json": {
       "version_major": 2,
       "version_minor": 0,
       "model_id": "d456b74d56f149dca0ee0f504d5e96b5"
      }
     },
     "metadata": {},
     "output_type": "display_data",
     "jetTransient": {
      "display_id": null
     }
    },
    {
     "data": {
      "text/plain": [
       "tokenizer_config.json:   0%|          | 0.00/350 [00:00<?, ?B/s]"
      ],
      "application/vnd.jupyter.widget-view+json": {
       "version_major": 2,
       "version_minor": 0,
       "model_id": "9bd6f3ac3a7c46f382ecf2ab3d7720e0"
      }
     },
     "metadata": {},
     "output_type": "display_data",
     "jetTransient": {
      "display_id": null
     }
    },
    {
     "data": {
      "text/plain": [
       "vocab.txt: 0.00B [00:00, ?B/s]"
      ],
      "application/vnd.jupyter.widget-view+json": {
       "version_major": 2,
       "version_minor": 0,
       "model_id": "3cbc3cae6e1241a7b6c517909f70507d"
      }
     },
     "metadata": {},
     "output_type": "display_data",
     "jetTransient": {
      "display_id": null
     }
    },
    {
     "data": {
      "text/plain": [
       "tokenizer.json: 0.00B [00:00, ?B/s]"
      ],
      "application/vnd.jupyter.widget-view+json": {
       "version_major": 2,
       "version_minor": 0,
       "model_id": "3ed402e846724faf9390f6d6265e7f2e"
      }
     },
     "metadata": {},
     "output_type": "display_data",
     "jetTransient": {
      "display_id": null
     }
    },
    {
     "data": {
      "text/plain": [
       "special_tokens_map.json:   0%|          | 0.00/112 [00:00<?, ?B/s]"
      ],
      "application/vnd.jupyter.widget-view+json": {
       "version_major": 2,
       "version_minor": 0,
       "model_id": "bd72d2ee54924886b3e2cb4dd8444023"
      }
     },
     "metadata": {},
     "output_type": "display_data",
     "jetTransient": {
      "display_id": null
     }
    },
    {
     "data": {
      "text/plain": [
       "config.json:   0%|          | 0.00/190 [00:00<?, ?B/s]"
      ],
      "application/vnd.jupyter.widget-view+json": {
       "version_major": 2,
       "version_minor": 0,
       "model_id": "c237a3bc970e4f78840746061c139a8b"
      }
     },
     "metadata": {},
     "output_type": "display_data",
     "jetTransient": {
      "display_id": null
     }
    },
    {
     "data": {
      "text/plain": [
       "Batches:   0%|          | 0/4073 [00:00<?, ?it/s]"
      ],
      "application/vnd.jupyter.widget-view+json": {
       "version_major": 2,
       "version_minor": 0,
       "model_id": "43b41bbe1ca9470984ec67ca07fb4335"
      }
     },
     "metadata": {},
     "output_type": "display_data",
     "jetTransient": {
      "display_id": null
     }
    },
    {
     "name": "stdout",
     "output_type": "stream",
     "text": [
      "Enbedding matrix shape: (130326, 384)\n",
      "Saved embeddings & meta.\n"
     ]
    }
   ],
   "execution_count": 5
  },
  {
   "metadata": {},
   "cell_type": "markdown",
   "source": "**Retrieval**",
   "id": "a47b508eb321b34"
  },
  {
   "metadata": {
    "ExecuteTime": {
     "end_time": "2025-10-31T04:52:13.249806Z",
     "start_time": "2025-10-31T04:52:13.051848Z"
    }
   },
   "cell_type": "code",
   "source": [
    "import re\n",
    "from sklearn.metrics.pairwise import cosine_similarity\n",
    "\n",
    "def _tok(s: str):\n",
    "    return re.findall(r\"[a-z0-9]+\", s.lower()) if isinstance(s, str) else []\n",
    "\n",
    "ANTONYMS = {\n",
    "    \"happy\": {\"sad\", \"melancholy\", \"gloomy\", \"downbeat\"},\n",
    "    \"sad\": {\"happy\", \"cheerful\", \"uplifting\"},\n",
    "    \"chill\": {\"hype\", \"intense\", \"aggressive\"},\n",
    "    \"upbeat\": {\"downbeat\"},\n",
    "    \"calm\": {\"angry\", \"aggressive\"},\n",
    "    \"dark\": {\"bright\", \"uplifting\", \"happy\"},\n",
    "    \"bright\": {\"dark\", \"gloomy\"}\n",
    "}\n",
    "\n",
    "def _keyword_bonus_and_penalty(query_tokens, title_tokens):\n",
    "    qt = set(query_tokens)\n",
    "    tt = set(title_tokens)\n",
    "\n",
    "    overlap = qt & tt\n",
    "    bonus = min(len(overlap), 4) * 0.02\n",
    "\n",
    "    penalty = 0.0\n",
    "    for q in qt:\n",
    "        if q in ANTONYMS and (ANTONYMS[q] & tt):\n",
    "            penalty += 0.04\n",
    "\n",
    "    return bonus, penalty, sorted(list(overlap))[:4]\n",
    "\n",
    "def search_text(query: str, top_k: int = 10, w_cos: float = 0.8, w_kw: float = 0.2, w_pen: float = 0.4):\n",
    "    q_norm = normalize_title(query)\n",
    "    q_vec = encoder.encode([q_norm], normalize_embeddings = True)\n",
    "    cos = cosine_similarity(q_vec, E_text)[0]\n",
    "\n",
    "    q_tokens = _tok(q_norm)\n",
    "    prelim_k = max(top_k * 5, 50)\n",
    "    prelim_index = np.argpartition(-cos, range(min(prelim_k, len(cos))))[:prelim_k]\n",
    "\n",
    "    bonuses = np.zeros_like(cos)\n",
    "    penalties = np.zeros_like(cos)\n",
    "    overlaps = [\"\"] * len(cos)\n",
    "\n",
    "    for i in prelim_index:\n",
    "        t_tokens = _tok(titles.iloc[i])\n",
    "        b, p, ov = _keyword_bonus_and_penalty(q_tokens, t_tokens)\n",
    "        bonuses[i] = b\n",
    "        penalties[i] = p\n",
    "        overlaps[i] = \", \".join(ov)\n",
    "\n",
    "    final = (w_cos * cos) - (w_pen * penalties) + (w_kw * bonuses)\n",
    "\n",
    "    top_index = np.argpartition(-final, range(min(top_k, len(final))))[:top_k]\n",
    "    top_index = top_index[np.argsort(-final[top_index])]\n",
    "\n",
    "    cols = [c for c in [\"track_name\", \"artist_name\", \"popularity\"] if c in df.columns]\n",
    "    out = df.iloc[top_index][cols].copy()\n",
    "    out.insert(0, \"score\", final[top_index].round(4))\n",
    "    out.insert(1, \"similarity\", cos[top_index].round(4))\n",
    "    out.insert(2, \"kw_bonus\", bonuses[top_index].round(4))\n",
    "    out.insert(3, \"kw_penalty\", penalties[top_index].round(4))\n",
    "    out[\"why_matched_tokens\"] = [overlaps[i] for i in top_index]\n",
    "    return out.reset_index(drop = True)\n",
    "\n",
    "display(search_text(\"happy songs\", top_k = 10))"
   ],
   "id": "5876ac932ad1dc69",
   "outputs": [
    {
     "data": {
      "text/plain": [
       "    score  similarity  kw_bonus  kw_penalty            track_name  \\\n",
       "0  0.7389      0.9187      0.02         0.0            Happy Song   \n",
       "1  0.5763      0.7154      0.02         0.0            Happy Rock   \n",
       "2  0.5630      0.7037      0.00         0.0   Music for Happiness   \n",
       "3  0.5595      0.6943      0.02         0.0  Happy Now - Acoustic   \n",
       "4  0.5521      0.6901      0.00         0.0        Happyness Rock   \n",
       "5  0.5459      0.6774      0.02         0.0  Happy (Instrumental)   \n",
       "6  0.5309      0.6587      0.02         0.0           Happy Happy   \n",
       "7  0.5309      0.6587      0.02         0.0           Happy Happy   \n",
       "8  0.5303      0.6629      0.00         0.0             Love Song   \n",
       "9  0.5303      0.6629      0.00         0.0             Love Song   \n",
       "\n",
       "                         artist_name  popularity why_matched_tokens  \n",
       "0                 Jimi Charles Moody          34              happy  \n",
       "1  The Electric Light Bulb Orchestra           7              happy  \n",
       "2                      Joey Pecoraro          61                     \n",
       "3                               Zedd          64              happy  \n",
       "4                       Image Sounds           0                     \n",
       "5                          Big Beats           0              happy  \n",
       "6                Shashank Sheshagiri           7              happy  \n",
       "7                              Nacho          63              happy  \n",
       "8                    Sean C. Johnson          30                     \n",
       "9                      Jared Grimble          37                     "
      ],
      "text/html": [
       "<div>\n",
       "<style scoped>\n",
       "    .dataframe tbody tr th:only-of-type {\n",
       "        vertical-align: middle;\n",
       "    }\n",
       "\n",
       "    .dataframe tbody tr th {\n",
       "        vertical-align: top;\n",
       "    }\n",
       "\n",
       "    .dataframe thead th {\n",
       "        text-align: right;\n",
       "    }\n",
       "</style>\n",
       "<table border=\"1\" class=\"dataframe\">\n",
       "  <thead>\n",
       "    <tr style=\"text-align: right;\">\n",
       "      <th></th>\n",
       "      <th>score</th>\n",
       "      <th>similarity</th>\n",
       "      <th>kw_bonus</th>\n",
       "      <th>kw_penalty</th>\n",
       "      <th>track_name</th>\n",
       "      <th>artist_name</th>\n",
       "      <th>popularity</th>\n",
       "      <th>why_matched_tokens</th>\n",
       "    </tr>\n",
       "  </thead>\n",
       "  <tbody>\n",
       "    <tr>\n",
       "      <th>0</th>\n",
       "      <td>0.7389</td>\n",
       "      <td>0.9187</td>\n",
       "      <td>0.02</td>\n",
       "      <td>0.0</td>\n",
       "      <td>Happy Song</td>\n",
       "      <td>Jimi Charles Moody</td>\n",
       "      <td>34</td>\n",
       "      <td>happy</td>\n",
       "    </tr>\n",
       "    <tr>\n",
       "      <th>1</th>\n",
       "      <td>0.5763</td>\n",
       "      <td>0.7154</td>\n",
       "      <td>0.02</td>\n",
       "      <td>0.0</td>\n",
       "      <td>Happy Rock</td>\n",
       "      <td>The Electric Light Bulb Orchestra</td>\n",
       "      <td>7</td>\n",
       "      <td>happy</td>\n",
       "    </tr>\n",
       "    <tr>\n",
       "      <th>2</th>\n",
       "      <td>0.5630</td>\n",
       "      <td>0.7037</td>\n",
       "      <td>0.00</td>\n",
       "      <td>0.0</td>\n",
       "      <td>Music for Happiness</td>\n",
       "      <td>Joey Pecoraro</td>\n",
       "      <td>61</td>\n",
       "      <td></td>\n",
       "    </tr>\n",
       "    <tr>\n",
       "      <th>3</th>\n",
       "      <td>0.5595</td>\n",
       "      <td>0.6943</td>\n",
       "      <td>0.02</td>\n",
       "      <td>0.0</td>\n",
       "      <td>Happy Now - Acoustic</td>\n",
       "      <td>Zedd</td>\n",
       "      <td>64</td>\n",
       "      <td>happy</td>\n",
       "    </tr>\n",
       "    <tr>\n",
       "      <th>4</th>\n",
       "      <td>0.5521</td>\n",
       "      <td>0.6901</td>\n",
       "      <td>0.00</td>\n",
       "      <td>0.0</td>\n",
       "      <td>Happyness Rock</td>\n",
       "      <td>Image Sounds</td>\n",
       "      <td>0</td>\n",
       "      <td></td>\n",
       "    </tr>\n",
       "    <tr>\n",
       "      <th>5</th>\n",
       "      <td>0.5459</td>\n",
       "      <td>0.6774</td>\n",
       "      <td>0.02</td>\n",
       "      <td>0.0</td>\n",
       "      <td>Happy (Instrumental)</td>\n",
       "      <td>Big Beats</td>\n",
       "      <td>0</td>\n",
       "      <td>happy</td>\n",
       "    </tr>\n",
       "    <tr>\n",
       "      <th>6</th>\n",
       "      <td>0.5309</td>\n",
       "      <td>0.6587</td>\n",
       "      <td>0.02</td>\n",
       "      <td>0.0</td>\n",
       "      <td>Happy Happy</td>\n",
       "      <td>Shashank Sheshagiri</td>\n",
       "      <td>7</td>\n",
       "      <td>happy</td>\n",
       "    </tr>\n",
       "    <tr>\n",
       "      <th>7</th>\n",
       "      <td>0.5309</td>\n",
       "      <td>0.6587</td>\n",
       "      <td>0.02</td>\n",
       "      <td>0.0</td>\n",
       "      <td>Happy Happy</td>\n",
       "      <td>Nacho</td>\n",
       "      <td>63</td>\n",
       "      <td>happy</td>\n",
       "    </tr>\n",
       "    <tr>\n",
       "      <th>8</th>\n",
       "      <td>0.5303</td>\n",
       "      <td>0.6629</td>\n",
       "      <td>0.00</td>\n",
       "      <td>0.0</td>\n",
       "      <td>Love Song</td>\n",
       "      <td>Sean C. Johnson</td>\n",
       "      <td>30</td>\n",
       "      <td></td>\n",
       "    </tr>\n",
       "    <tr>\n",
       "      <th>9</th>\n",
       "      <td>0.5303</td>\n",
       "      <td>0.6629</td>\n",
       "      <td>0.00</td>\n",
       "      <td>0.0</td>\n",
       "      <td>Love Song</td>\n",
       "      <td>Jared Grimble</td>\n",
       "      <td>37</td>\n",
       "      <td></td>\n",
       "    </tr>\n",
       "  </tbody>\n",
       "</table>\n",
       "</div>"
      ]
     },
     "metadata": {},
     "output_type": "display_data",
     "jetTransient": {
      "display_id": null
     }
    }
   ],
   "execution_count": 29
  },
  {
   "metadata": {},
   "cell_type": "markdown",
   "source": "**Prediction**",
   "id": "f3ca09e97fd8673a"
  },
  {
   "metadata": {
    "ExecuteTime": {
     "end_time": "2025-10-31T04:11:47.369296Z",
     "start_time": "2025-10-31T04:11:46.730781Z"
    }
   },
   "cell_type": "code",
   "source": [
    "y = df[\"popularity\"].astype(float).values\n",
    "\n",
    "X_fused = np.hstack([E_text, X_aduio_scaled])\n",
    "\n",
    "X_tr, X_te, y_tr, y_te = train_test_split(X_fused, y, test_size = 0.2, random_state = 42)\n",
    "\n",
    "ridge = Ridge(alpha = 2.0, random_state=42)\n",
    "ridge.fit(X_tr, y_tr)\n",
    "pred = ridge.predict(X_te)\n",
    "\n",
    "R2 = round(float(r2_score(y_te, pred)), 4)\n",
    "MAE = round(float(mean_absolute_error(y_te, pred)), 4)\n",
    "RMSE = round(float(mean_squared_error(y_te, pred)), 4)\n",
    "print(f\"Ridge (Fused) -> R2 = {R2} | MAE = {MAE} | RMSE = {RMSE}\")\n",
    "\n",
    "joblib.dump(ridge, MODELS_DIR / \"ridge_fused_embeddings.joblib\")\n",
    "with open(ART_DIR / \"metrics\" / \"nlp_fusion_metrics.json\", \"w\") as f:\n",
    "    json.dump({\"model\":\"Ridge(fused)\", \"R2\":R2, \"MAE\":MAE, \"RMSE\":RMSE}, f, indent = 2)"
   ],
   "id": "69d785bcf5283695",
   "outputs": [
    {
     "name": "stdout",
     "output_type": "stream",
     "text": [
      "Ridge (Fused) -> R2 = 0.1878 | MAE = 14.5273 | RMSE = 310.8547\n"
     ]
    }
   ],
   "execution_count": 16
  },
  {
   "metadata": {},
   "cell_type": "markdown",
   "source": "**Seed track**",
   "id": "240c567d457a067a"
  },
  {
   "metadata": {
    "ExecuteTime": {
     "end_time": "2025-10-31T04:56:03.521743Z",
     "start_time": "2025-10-31T04:56:02.990896Z"
    }
   },
   "cell_type": "code",
   "source": [
    "df[\"_title_norm\"] = titles\n",
    "df[\"_artist_norm\"] = df[artist_col].fillna(\"\").apply(normalize_title) if artist_col else \"\"\n",
    "\n",
    "def get_track_index(partial_title: str, partial_artist: str = None):\n",
    "    if not isinstance(partial_title, str):\n",
    "        return None\n",
    "    t = normalize_title(partial_title)\n",
    "    a = normalize_title(partial_artist) if isinstance(partial_artist, str) else \"\"\n",
    "    mask = df[\"_title_norm\"].str.contains(t, case = False, regex = False)\n",
    "    if a:\n",
    "        mask &= df[\"_artist_norm\"].str.contains(a, case = False, regex = False)\n",
    "    index = np.where(mask.values)[0]\n",
    "    return int(index[0]) if len(index) else None\n",
    "\n",
    "def topk_neighbors_fused(seed_index: int, top_k: int = 10):\n",
    "    sims = cosine_similarity(X_fused[seed_index:seed_index + 1], X_fused)[0]\n",
    "    sims[seed_index] = -np.inf\n",
    "    top_index = np.argpartition(-sims, range(top_k))[:top_k]\n",
    "    top_index = top_index[np.argsort(-sims[top_index])]\n",
    "\n",
    "    cols = [c for c in [\"track_name\", \"artist_name\", \"popularity\"] if c in df.columns]\n",
    "    out = df.iloc[top_index][cols].copy()\n",
    "    out.insert(0, \"similarity\", sims[top_index].round(4))\n",
    "    return out.reset_index(drop = True), top_index\n",
    "\n",
    "seed = get_track_index(\"Ghost Town\", \"Kanye\")\n",
    "print(\"Seed index:\", seed)\n",
    "if seed is not None:\n",
    "    recs, _ = topk_neighbors_fused(seed, top_k = 10)\n",
    "    print(\"Seed:\", df.loc[seed, name_col], \"-\", df.loc[seed, artist_col])\n",
    "    display(recs)\n",
    "else:\n",
    "    print(\"Seed track not found.\")"
   ],
   "id": "c94650eaae2c5fe4",
   "outputs": [
    {
     "name": "stdout",
     "output_type": "stream",
     "text": [
      "Seed index: 104409\n",
      "Seed: Ghost Town - Kanye West\n"
     ]
    },
    {
     "data": {
      "text/plain": [
       "   similarity                                         track_name  \\\n",
       "0      0.9347                                          The Bones   \n",
       "1      0.9329                                               Fast   \n",
       "2      0.9317                                          FAKE LOVE   \n",
       "3      0.9307            Watch (feat. Lil Uzi Vert & Kanye West)   \n",
       "4      0.9279                                       Lucid Dreams   \n",
       "5      0.9256  Zero - From the Original Motion Picture \"Ralph...   \n",
       "6      0.9161                    Back to Life - from \"Bumblebee\"   \n",
       "7      0.9110                                           Chlorine   \n",
       "8      0.9068                Price On My Head (feat. The Weeknd)   \n",
       "9      0.9051                                     Blame It On Me   \n",
       "\n",
       "         artist_name  popularity  \n",
       "0       Maren Morris          87  \n",
       "1         Juice WRLD          88  \n",
       "2                BTS          80  \n",
       "3       Travis Scott          73  \n",
       "4         Juice WRLD          91  \n",
       "5    Imagine Dragons          77  \n",
       "6   Hailee Steinfeld          75  \n",
       "7  Twenty One Pilots          84  \n",
       "8                NAV          81  \n",
       "9        Post Malone          76  "
      ],
      "text/html": [
       "<div>\n",
       "<style scoped>\n",
       "    .dataframe tbody tr th:only-of-type {\n",
       "        vertical-align: middle;\n",
       "    }\n",
       "\n",
       "    .dataframe tbody tr th {\n",
       "        vertical-align: top;\n",
       "    }\n",
       "\n",
       "    .dataframe thead th {\n",
       "        text-align: right;\n",
       "    }\n",
       "</style>\n",
       "<table border=\"1\" class=\"dataframe\">\n",
       "  <thead>\n",
       "    <tr style=\"text-align: right;\">\n",
       "      <th></th>\n",
       "      <th>similarity</th>\n",
       "      <th>track_name</th>\n",
       "      <th>artist_name</th>\n",
       "      <th>popularity</th>\n",
       "    </tr>\n",
       "  </thead>\n",
       "  <tbody>\n",
       "    <tr>\n",
       "      <th>0</th>\n",
       "      <td>0.9347</td>\n",
       "      <td>The Bones</td>\n",
       "      <td>Maren Morris</td>\n",
       "      <td>87</td>\n",
       "    </tr>\n",
       "    <tr>\n",
       "      <th>1</th>\n",
       "      <td>0.9329</td>\n",
       "      <td>Fast</td>\n",
       "      <td>Juice WRLD</td>\n",
       "      <td>88</td>\n",
       "    </tr>\n",
       "    <tr>\n",
       "      <th>2</th>\n",
       "      <td>0.9317</td>\n",
       "      <td>FAKE LOVE</td>\n",
       "      <td>BTS</td>\n",
       "      <td>80</td>\n",
       "    </tr>\n",
       "    <tr>\n",
       "      <th>3</th>\n",
       "      <td>0.9307</td>\n",
       "      <td>Watch (feat. Lil Uzi Vert &amp; Kanye West)</td>\n",
       "      <td>Travis Scott</td>\n",
       "      <td>73</td>\n",
       "    </tr>\n",
       "    <tr>\n",
       "      <th>4</th>\n",
       "      <td>0.9279</td>\n",
       "      <td>Lucid Dreams</td>\n",
       "      <td>Juice WRLD</td>\n",
       "      <td>91</td>\n",
       "    </tr>\n",
       "    <tr>\n",
       "      <th>5</th>\n",
       "      <td>0.9256</td>\n",
       "      <td>Zero - From the Original Motion Picture \"Ralph...</td>\n",
       "      <td>Imagine Dragons</td>\n",
       "      <td>77</td>\n",
       "    </tr>\n",
       "    <tr>\n",
       "      <th>6</th>\n",
       "      <td>0.9161</td>\n",
       "      <td>Back to Life - from \"Bumblebee\"</td>\n",
       "      <td>Hailee Steinfeld</td>\n",
       "      <td>75</td>\n",
       "    </tr>\n",
       "    <tr>\n",
       "      <th>7</th>\n",
       "      <td>0.9110</td>\n",
       "      <td>Chlorine</td>\n",
       "      <td>Twenty One Pilots</td>\n",
       "      <td>84</td>\n",
       "    </tr>\n",
       "    <tr>\n",
       "      <th>8</th>\n",
       "      <td>0.9068</td>\n",
       "      <td>Price On My Head (feat. The Weeknd)</td>\n",
       "      <td>NAV</td>\n",
       "      <td>81</td>\n",
       "    </tr>\n",
       "    <tr>\n",
       "      <th>9</th>\n",
       "      <td>0.9051</td>\n",
       "      <td>Blame It On Me</td>\n",
       "      <td>Post Malone</td>\n",
       "      <td>76</td>\n",
       "    </tr>\n",
       "  </tbody>\n",
       "</table>\n",
       "</div>"
      ]
     },
     "metadata": {},
     "output_type": "display_data",
     "jetTransient": {
      "display_id": null
     }
    }
   ],
   "execution_count": 31
  },
  {
   "metadata": {},
   "cell_type": "markdown",
   "source": "**Re-weight**",
   "id": "f7fb770dc9b9b13d"
  },
  {
   "metadata": {
    "ExecuteTime": {
     "end_time": "2025-10-31T04:28:18.866930Z",
     "start_time": "2025-10-31T04:28:18.664437Z"
    }
   },
   "cell_type": "code",
   "source": [
    "audio_weights = np.ones(X_aduio_scaled.shape[1], dtype = float)\n",
    "pref_boost = {\n",
    "    \"danceability\": 1.2,\n",
    "    \"valence\": 1.15,\n",
    "    \"energy\": 1.2\n",
    "}\n",
    "for k, w in pref_boost.items():\n",
    "    if k in num_cols:\n",
    "        audio_weights[num_cols.index(k)] = w\n",
    "\n",
    "X_fused_weighted = np.hstack([E_text, X_aduio_scaled * audio_weights])\n",
    "\n",
    "def topk_neighbors_fused_weighted(seed_index: int, top_k: int = 10):\n",
    "    sims = cosine_similarity(X_fused_weighted[seed_index: seed_index + 1], X_fused_weighted)[0]\n",
    "    sims[seed_index] = -np.inf\n",
    "    top_index = np.argpartition(-sims, range(top_k))[:top_k]\n",
    "    top_index = top_index[np.argsort(-sims[top_index])]\n",
    "    cols = [c for c in [\"track_name\", \"artist_name\", \"popularity\"] if c in df.columns]\n",
    "    out = df.iloc[top_index][cols].copy()\n",
    "    out.insert(0, \"similarity\", sims[top_index].round(4))\n",
    "    return out.reset_index(drop = True), top_index"
   ],
   "id": "5af70caff5df3ca5",
   "outputs": [],
   "execution_count": 24
  }
 ],
 "metadata": {
  "kernelspec": {
   "display_name": "Python 3",
   "language": "python",
   "name": "python3"
  },
  "language_info": {
   "codemirror_mode": {
    "name": "ipython",
    "version": 2
   },
   "file_extension": ".py",
   "mimetype": "text/x-python",
   "name": "python",
   "nbconvert_exporter": "python",
   "pygments_lexer": "ipython2",
   "version": "2.7.6"
  }
 },
 "nbformat": 4,
 "nbformat_minor": 5
}
