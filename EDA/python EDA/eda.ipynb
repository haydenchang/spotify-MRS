{
 "cells": [
  {
   "metadata": {
    "ExecuteTime": {
     "end_time": "2025-10-26T03:50:40.441622Z",
     "start_time": "2025-10-26T03:50:40.286938Z"
    }
   },
   "cell_type": "code",
   "source": [
    "import os\n",
    "import sys\n",
    "import math\n",
    "import numpy as np\n",
    "import pandas as pd\n",
    "import matplotlib.pyplot as plt\n",
    "from pandas.plotting import scatter_matrix\n",
    "\n",
    "pd.set_option('display.max_columns', 120)\n",
    "pd.set_option('display.width', 120)\n",
    "\n",
    "DATA_PATH = \"../../data/SpotifyAudioFeaturesApril2019.csv\"   # <- update to your CSV\n",
    "EXPORT_DIR = \"./artifacts\"\n",
    "os.makedirs(EXPORT_DIR, exist_ok=True)"
   ],
   "id": "43dec34e8ef47aea",
   "outputs": [
    {
     "name": "stdout",
     "output_type": "stream",
     "text": [
      "Rows, Cols: (130663, 17)\n"
     ]
    }
   ],
   "execution_count": 13
  },
  {
   "metadata": {},
   "cell_type": "markdown",
   "source": "Data Interpretation",
   "id": "1bedea0a0c8d5647"
  },
  {
   "metadata": {
    "ExecuteTime": {
     "end_time": "2025-10-26T03:58:26.189535Z",
     "start_time": "2025-10-26T03:58:26.011710Z"
    }
   },
   "cell_type": "code",
   "source": [
    "df = pd.read_csv(DATA_PATH)\n",
    "print(\"Rows, Cols:\", df.shape)\n",
    "display(df.head(5))\n",
    "df.info()"
   ],
   "id": "9d283fbb0b15a525",
   "outputs": [
    {
     "name": "stdout",
     "output_type": "stream",
     "text": [
      "Rows, Cols: (130663, 17)\n"
     ]
    },
    {
     "data": {
      "text/plain": [
       "  artist_name                track_id                                      track_name  acousticness  danceability  \\\n",
       "0          YG  2RM4jf1Xa9zPgMGRDiht8O  Big Bank feat. 2 Chainz, Big Sean, Nicki Minaj      0.005820         0.743   \n",
       "1          YG  1tHDG53xJNGsItRA3vfVgs                    BAND DRUM (feat. A$AP Rocky)      0.024400         0.846   \n",
       "2       R3HAB  6Wosx2euFPMT14UXiWudMy                                   Radio Silence      0.025000         0.603   \n",
       "3  Chris Cooq  3J2Jpw61sO7l6Hc7qdYV91                                         Lactose      0.029400         0.800   \n",
       "4  Chris Cooq  2jbYvQCyPgX3CdmAzeVeuS                             Same - Original mix      0.000035         0.783   \n",
       "\n",
       "   duration_ms  energy  instrumentalness  key  liveness  loudness  mode  speechiness    tempo  time_signature  \\\n",
       "0       238373   0.339             0.000    1    0.0812    -7.678     1       0.4090  203.927               4   \n",
       "1       214800   0.557             0.000    8    0.2860    -7.259     1       0.4570  159.009               4   \n",
       "2       138913   0.723             0.000    9    0.0824    -5.890     0       0.0454  114.966               4   \n",
       "3       125381   0.579             0.912    5    0.0994   -12.118     0       0.0701  123.003               4   \n",
       "4       124016   0.792             0.878    7    0.0332   -10.277     1       0.0661  120.047               4   \n",
       "\n",
       "   valence  popularity  \n",
       "0    0.118          15  \n",
       "1    0.371           0  \n",
       "2    0.382          56  \n",
       "3    0.641           0  \n",
       "4    0.928           0  "
      ],
      "text/html": [
       "<div>\n",
       "<style scoped>\n",
       "    .dataframe tbody tr th:only-of-type {\n",
       "        vertical-align: middle;\n",
       "    }\n",
       "\n",
       "    .dataframe tbody tr th {\n",
       "        vertical-align: top;\n",
       "    }\n",
       "\n",
       "    .dataframe thead th {\n",
       "        text-align: right;\n",
       "    }\n",
       "</style>\n",
       "<table border=\"1\" class=\"dataframe\">\n",
       "  <thead>\n",
       "    <tr style=\"text-align: right;\">\n",
       "      <th></th>\n",
       "      <th>artist_name</th>\n",
       "      <th>track_id</th>\n",
       "      <th>track_name</th>\n",
       "      <th>acousticness</th>\n",
       "      <th>danceability</th>\n",
       "      <th>duration_ms</th>\n",
       "      <th>energy</th>\n",
       "      <th>instrumentalness</th>\n",
       "      <th>key</th>\n",
       "      <th>liveness</th>\n",
       "      <th>loudness</th>\n",
       "      <th>mode</th>\n",
       "      <th>speechiness</th>\n",
       "      <th>tempo</th>\n",
       "      <th>time_signature</th>\n",
       "      <th>valence</th>\n",
       "      <th>popularity</th>\n",
       "    </tr>\n",
       "  </thead>\n",
       "  <tbody>\n",
       "    <tr>\n",
       "      <th>0</th>\n",
       "      <td>YG</td>\n",
       "      <td>2RM4jf1Xa9zPgMGRDiht8O</td>\n",
       "      <td>Big Bank feat. 2 Chainz, Big Sean, Nicki Minaj</td>\n",
       "      <td>0.005820</td>\n",
       "      <td>0.743</td>\n",
       "      <td>238373</td>\n",
       "      <td>0.339</td>\n",
       "      <td>0.000</td>\n",
       "      <td>1</td>\n",
       "      <td>0.0812</td>\n",
       "      <td>-7.678</td>\n",
       "      <td>1</td>\n",
       "      <td>0.4090</td>\n",
       "      <td>203.927</td>\n",
       "      <td>4</td>\n",
       "      <td>0.118</td>\n",
       "      <td>15</td>\n",
       "    </tr>\n",
       "    <tr>\n",
       "      <th>1</th>\n",
       "      <td>YG</td>\n",
       "      <td>1tHDG53xJNGsItRA3vfVgs</td>\n",
       "      <td>BAND DRUM (feat. A$AP Rocky)</td>\n",
       "      <td>0.024400</td>\n",
       "      <td>0.846</td>\n",
       "      <td>214800</td>\n",
       "      <td>0.557</td>\n",
       "      <td>0.000</td>\n",
       "      <td>8</td>\n",
       "      <td>0.2860</td>\n",
       "      <td>-7.259</td>\n",
       "      <td>1</td>\n",
       "      <td>0.4570</td>\n",
       "      <td>159.009</td>\n",
       "      <td>4</td>\n",
       "      <td>0.371</td>\n",
       "      <td>0</td>\n",
       "    </tr>\n",
       "    <tr>\n",
       "      <th>2</th>\n",
       "      <td>R3HAB</td>\n",
       "      <td>6Wosx2euFPMT14UXiWudMy</td>\n",
       "      <td>Radio Silence</td>\n",
       "      <td>0.025000</td>\n",
       "      <td>0.603</td>\n",
       "      <td>138913</td>\n",
       "      <td>0.723</td>\n",
       "      <td>0.000</td>\n",
       "      <td>9</td>\n",
       "      <td>0.0824</td>\n",
       "      <td>-5.890</td>\n",
       "      <td>0</td>\n",
       "      <td>0.0454</td>\n",
       "      <td>114.966</td>\n",
       "      <td>4</td>\n",
       "      <td>0.382</td>\n",
       "      <td>56</td>\n",
       "    </tr>\n",
       "    <tr>\n",
       "      <th>3</th>\n",
       "      <td>Chris Cooq</td>\n",
       "      <td>3J2Jpw61sO7l6Hc7qdYV91</td>\n",
       "      <td>Lactose</td>\n",
       "      <td>0.029400</td>\n",
       "      <td>0.800</td>\n",
       "      <td>125381</td>\n",
       "      <td>0.579</td>\n",
       "      <td>0.912</td>\n",
       "      <td>5</td>\n",
       "      <td>0.0994</td>\n",
       "      <td>-12.118</td>\n",
       "      <td>0</td>\n",
       "      <td>0.0701</td>\n",
       "      <td>123.003</td>\n",
       "      <td>4</td>\n",
       "      <td>0.641</td>\n",
       "      <td>0</td>\n",
       "    </tr>\n",
       "    <tr>\n",
       "      <th>4</th>\n",
       "      <td>Chris Cooq</td>\n",
       "      <td>2jbYvQCyPgX3CdmAzeVeuS</td>\n",
       "      <td>Same - Original mix</td>\n",
       "      <td>0.000035</td>\n",
       "      <td>0.783</td>\n",
       "      <td>124016</td>\n",
       "      <td>0.792</td>\n",
       "      <td>0.878</td>\n",
       "      <td>7</td>\n",
       "      <td>0.0332</td>\n",
       "      <td>-10.277</td>\n",
       "      <td>1</td>\n",
       "      <td>0.0661</td>\n",
       "      <td>120.047</td>\n",
       "      <td>4</td>\n",
       "      <td>0.928</td>\n",
       "      <td>0</td>\n",
       "    </tr>\n",
       "  </tbody>\n",
       "</table>\n",
       "</div>"
      ]
     },
     "metadata": {},
     "output_type": "display_data",
     "jetTransient": {
      "display_id": null
     }
    },
    {
     "name": "stdout",
     "output_type": "stream",
     "text": [
      "<class 'pandas.core.frame.DataFrame'>\n",
      "RangeIndex: 130663 entries, 0 to 130662\n",
      "Data columns (total 17 columns):\n",
      " #   Column            Non-Null Count   Dtype  \n",
      "---  ------            --------------   -----  \n",
      " 0   artist_name       130663 non-null  object \n",
      " 1   track_id          130663 non-null  object \n",
      " 2   track_name        130662 non-null  object \n",
      " 3   acousticness      130663 non-null  float64\n",
      " 4   danceability      130663 non-null  float64\n",
      " 5   duration_ms       130663 non-null  int64  \n",
      " 6   energy            130663 non-null  float64\n",
      " 7   instrumentalness  130663 non-null  float64\n",
      " 8   key               130663 non-null  int64  \n",
      " 9   liveness          130663 non-null  float64\n",
      " 10  loudness          130663 non-null  float64\n",
      " 11  mode              130663 non-null  int64  \n",
      " 12  speechiness       130663 non-null  float64\n",
      " 13  tempo             130663 non-null  float64\n",
      " 14  time_signature    130663 non-null  int64  \n",
      " 15  valence           130663 non-null  float64\n",
      " 16  popularity        130663 non-null  int64  \n",
      "dtypes: float64(9), int64(5), object(3)\n",
      "memory usage: 16.9+ MB\n"
     ]
    }
   ],
   "execution_count": 16
  },
  {
   "metadata": {},
   "cell_type": "markdown",
   "source": "Numeric Set",
   "id": "7b88bac685f1dba8"
  },
  {
   "metadata": {},
   "cell_type": "code",
   "outputs": [],
   "execution_count": null,
   "source": "",
   "id": "42f3388d57070812"
  },
  {
   "metadata": {},
   "cell_type": "markdown",
   "source": "Correlation Matrix",
   "id": "6c2e2b86112211f0"
  },
  {
   "metadata": {},
   "cell_type": "code",
   "outputs": [],
   "execution_count": null,
   "source": "",
   "id": "dfeac8dc8e992d63"
  },
  {
   "metadata": {},
   "cell_type": "markdown",
   "source": "Feature Distribution",
   "id": "d32f8b1585486050"
  },
  {
   "metadata": {},
   "cell_type": "markdown",
   "source": "Skewness",
   "id": "1c9477f2446f3074"
  },
  {
   "metadata": {},
   "cell_type": "markdown",
   "source": "Popular VS non-popular",
   "id": "a6cd4e59456f645b"
  },
  {
   "metadata": {},
   "cell_type": "markdown",
   "source": "Fingerprint",
   "id": "6a6097fc76e79fad"
  },
  {
   "metadata": {},
   "cell_type": "markdown",
   "source": "Popularity drivers",
   "id": "cc0dc28485e618d2"
  },
  {
   "metadata": {},
   "cell_type": "markdown",
   "source": "Unsupervised clustering",
   "id": "c8b4227a2fc4d6fc"
  },
  {
   "metadata": {},
   "cell_type": "markdown",
   "source": "A/B testing simulation",
   "id": "4496641909aaa16b"
  },
  {
   "metadata": {},
   "cell_type": "markdown",
   "source": "Export",
   "id": "f27a7488e0de5697"
  },
  {
   "metadata": {},
   "cell_type": "code",
   "outputs": [],
   "execution_count": null,
   "source": "",
   "id": "738da637140de21"
  }
 ],
 "metadata": {
  "kernelspec": {
   "display_name": "Python 3",
   "language": "python",
   "name": "python3"
  },
  "language_info": {
   "codemirror_mode": {
    "name": "ipython",
    "version": 2
   },
   "file_extension": ".py",
   "mimetype": "text/x-python",
   "name": "python",
   "nbconvert_exporter": "python",
   "pygments_lexer": "ipython2",
   "version": "2.7.6"
  }
 },
 "nbformat": 4,
 "nbformat_minor": 5
}
